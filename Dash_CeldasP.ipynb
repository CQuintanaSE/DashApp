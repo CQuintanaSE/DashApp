{
 "cells": [
  {
   "cell_type": "code",
   "execution_count": null,
   "id": "6806254f-5c51-46fe-b488-aadee4df8058",
   "metadata": {},
   "outputs": [],
   "source": []
  },
  {
   "cell_type": "markdown",
   "id": "32cfd9a1-10d7-4b1e-bc13-dd9322310d6a",
   "metadata": {},
   "source": [
    "# Proyecto (Dash ejercicio 2)"
   ]
  },
  {
   "cell_type": "markdown",
   "id": "267f27c5-9112-40d3-acf5-8c40b7045f53",
   "metadata": {},
   "source": [
    "## Funciones"
   ]
  },
  {
   "cell_type": "code",
   "execution_count": null,
   "id": "50ebce5a-0aa8-4a96-859f-8ddd5dae1089",
   "metadata": {},
   "outputs": [],
   "source": [
    "def get_datasets(Country = \"Spain\", Countries = [\"Spain\",\"France\",\"Germany\"]):\n",
    "    # Leer csv\n",
    "    data = (pd.read_csv(\"Data_files/covid_Europe.csv\"))\n",
    "    # Crear columna \"Date\" con formato datetime\n",
    "    data[\"Date\"] = pd.to_datetime(data[\"dateRep\"], format=\"%d/%m/%Y\")\n",
    "    # Generar dataset y lista de datasets\n",
    "    country_data = data[data[\"countriesAndTerritories\"] == Country]\n",
    "    countries_data = [data[data[\"countriesAndTerritories\"] == _c] for _c in Countries]\n",
    "\n",
    "    return data, country_data, countries_data\n",
    "\n",
    "\n",
    "def gen_figs(country, country_data, countries, countries_data):\n",
    "    # https://plotly.com/python/line-charts/#line-plot-modes\n",
    "    \n",
    "    figs = {}\n",
    "    # Figures of one single country (First section)\n",
    "    # Figure CasesAndDeaths\n",
    "    figs[\"CasesAndDeaths\"] = go.Figure()\n",
    "    figs[\"CasesAndDeaths\"].add_trace(go.Scatter(x=country_data[\"Date\"], y=country_data[\"cases\"]/country_data[\"cases\"].max(),\n",
    "                        mode='lines',\n",
    "                        name='Cases'))\n",
    "    figs[\"CasesAndDeaths\"].add_trace(go.Scatter(x=country_data[\"Date\"], y=country_data[\"deaths\"]/country_data[\"deaths\"].max(),\n",
    "                        mode='lines',\n",
    "                        name='Deaths'))\n",
    "    figs[\"CasesAndDeaths\"].update_layout(\n",
    "                       xaxis_title='Date',\n",
    "                       yaxis_title='Normallized to max',\n",
    "                       title='Visualizando '+country)\n",
    "\n",
    "    # Figures of one multiple countries (Second section)\n",
    "    # Figure CasesCountries\n",
    "    figs[\"CasesCountries\"] = go.Figure()\n",
    "    N_countries = len(countries)\n",
    "    for i in range(N_countries):\n",
    "        tdata = countries_data[i]\n",
    "        figs[\"CasesCountries\"].add_trace(go.Scatter(x=tdata[\"Date\"], y=tdata[\"cases\"],\n",
    "                    mode='lines',\n",
    "                    name=countries[i]))\n",
    "\n",
    "    return figs"
   ]
  },
  {
   "cell_type": "markdown",
   "id": "1764d418-79e8-4973-a96b-1685401d0876",
   "metadata": {},
   "source": [
    "## Mínima app -> Layout básico + Callback básico"
   ]
  },
  {
   "cell_type": "code",
   "execution_count": null,
   "id": "3aef38b6-3d1d-4ed5-a27a-7ed4935983d4",
   "metadata": {},
   "outputs": [],
   "source": [
    "app.layout = html.Div(\n",
    "    [\n",
    "        dbc.Row(dbc.Col(html.Img(src=\"assets/LogoDash.png\"), width = 10)),\n",
    "        dbc.Row(dbc.Col(html.H5(header), width = 10), style = style_1),\n",
    "        dbc.Row([dbc.Col(html.Button('Actualizar datos', id='update-data', n_clicks=0),\n",
    "                         style = style_1, width = 1),\n",
    "                 dbc.Col(html.Div(children=\"\", id='update-date'),\n",
    "                         style = style_1, width = 9),\n",
    "                 \n",
    "                ]),\n",
    "        dbc.Row(dbc.Col(html.Img(src=\"assets/LineDash.png\"), width = 10)),\n",
    "\n",
    "        dbc.Row(\n",
    "            [\n",
    "                dbc.Col(html.Img(src=\"assets/panelA.png\"),\n",
    "                        width = 3,style = style_1),\n",
    "                dbc.Col(dcc.Graph(figure = figs[\"CasesAndDeaths\"], id=\"F_CD\"), width = 7)\n",
    "            ]\n",
    "        ),\n",
    "        dbc.Row(dbc.Col(html.Img(src=\"assets/LineDash.png\"), width = 10)),\n",
    "\n",
    "        dbc.Row(\n",
    "            [\n",
    "                dbc.Col(html.Img(src=\"assets/panelB.png\"), \n",
    "                        width = 3,style = style_1),\n",
    "                dbc.Col(dcc.Graph(figure = figs[\"CasesCountries\"], id=\"F_CC\"), width = 7)\n",
    "            ]\n",
    "        ),\n",
    "\n",
    "        dbc.Row(dbc.Col(html.Img(src=\"assets/LineDash.png\"), width = 10)),\n",
    "\n",
    "    ]\n",
    ")\n",
    "\n",
    "@app.callback(\n",
    "    Output('update-date', 'children'),\n",
    "    Output('F_CD', 'figure'),\n",
    "    Output('F_CC', 'figure'),\n",
    "    Input('update-data', 'n_clicks'),\n",
    ")\n",
    "def update_output(n_clicks):\n",
    "    \n",
    "    if n_clicks > 0: \n",
    "        url = 'https://opendata.ecdc.europa.eu/covid19/nationalcasedeath_eueea_daily_ei/csv/data.csv'\n",
    "        download_as(url, name = \"covid_Europe.csv\")\n",
    "        text = \"Actualizado! -> \"+subprocess.run(\"date\", shell=True, capture_output=True, text=True).stdout.strip()\n",
    "    else:\n",
    "        text = \"Los ficheros de datos no han sido actualizados desde el inicio de la sesión\"\n",
    "\n",
    "    figs = {}\n",
    "    figs[\"CasesAndDeaths\"] = go.Figure() # Sólo instanciamos\n",
    "    figs[\"CasesCountries\"] = go.Figure()\n",
    "\n",
    "    #return text, 0, figs[\"CasesAndDeaths\"], figs[\"CasesCountries\"]\n",
    "    return text, figs[\"CasesAndDeaths\"], figs[\"CasesCountries\"]\n",
    "\n",
    "\n",
    "#--------------- Launch/Update the app ------------------------------------------------------------------------------\n",
    "if __name__ == \"__main__\":\n",
    "    app.run_server(debug=True)"
   ]
  },
  {
   "cell_type": "markdown",
   "id": "0168213b-3557-4164-8343-217365844e24",
   "metadata": {},
   "source": [
    "## Paneles"
   ]
  },
  {
   "cell_type": "code",
   "execution_count": null,
   "id": "3d1c96bc-9b69-49de-88ed-62ad832a0e96",
   "metadata": {},
   "outputs": [],
   "source": [
    "Panel1 = dcc.Dropdown(\n",
    "    id=\"region-filter\", # Identificador\n",
    "    options=[{\"label\": region, \"value\": region} for region in regions], # Opciones para elegir\n",
    "    value=\"Spain\", # Valor inicial\n",
    "    multi=False, # Multiples valores?\n",
    "    clearable=False,\n",
    "    className=\"dropdown\",\n",
    ")\n",
    "\n",
    "Panel2 = dcc.Dropdown(\n",
    "    id=\"countries-filter\", # Identificador\n",
    "    options=[{\"label\": region, \"value\": region} for region in regions], # Opciones para elegir\n",
    "    value=[\"Spain\", \"Portugal\", \"Germany\"], # Valor inicial\n",
    "    multi=False, # Multiples valores?\n",
    "    clearable=False,\n",
    "    className=\"dropdown\",\n",
    ")\n",
    "\n",
    "Panel3 = dcc.DatePickerRange(\n",
    "    id='datePicker',\n",
    "    min_date_allowed=date(2020, 1, 1),\n",
    "    max_date_allowed=date(2022, 10, 19),\n",
    "    start_date=date(2020, 1, 1),\n",
    "    end_date=date(2022, 10, 19),\n",
    ")"
   ]
  },
  {
   "cell_type": "markdown",
   "id": "8caf085b-9968-4398-be76-07607924ff84",
   "metadata": {},
   "source": [
    "## Otros códigos de interés:"
   ]
  },
  {
   "cell_type": "code",
   "execution_count": null,
   "id": "eb052037-ac8e-4431-ad3f-b97cf8fe9a4d",
   "metadata": {},
   "outputs": [],
   "source": [
    "# Si no es una lista, incluir en lista\n",
    "if not isinstance(countries, list):\n",
    "        countries = [countries]\n",
    "\n",
    "# Selección temporal\n",
    "if start_date != None and end_date != None:\n",
    "        country_data = country_data[(country_data['Date'] >= start_date) & (country_data['Date'] <= end_date)]"
   ]
  },
  {
   "cell_type": "markdown",
   "id": "57639fa7-730c-410c-a42f-0be3e78e2387",
   "metadata": {},
   "source": [
    "## Cómo obtener la fecha de actualización de un fichero de datos de una web desde el código"
   ]
  },
  {
   "cell_type": "code",
   "execution_count": 9,
   "id": "275e94ab-acac-4ee7-bf42-a83ba21596f0",
   "metadata": {},
   "outputs": [
    {
     "name": "stdout",
     "output_type": "stream",
     "text": [
      "10/27/2022  9:30 AM\n"
     ]
    }
   ],
   "source": [
    "import requests\n",
    "\n",
    "# Fetch the web page content\n",
    "url = \"https://opendata.ecdc.europa.eu/covid19/nationalcasedeath_eueea_daily_ei/\"  # Replace with the actual URL of the web page\n",
    "webpage = requests.get(url, {'Cache-Control': 'no-cache'})\n",
    "text = webpage.text\n",
    "\n",
    "# Split the content into lines\n",
    "lines = text.split(\"\\n\")\n",
    "\n",
    "# Search for a specific line and get the previous line\n",
    "search_str = \"/csv/\"  # Replace with the line you want to search\n",
    "info_line = \"\"\n",
    "\n",
    "for i, line in enumerate(lines):\n",
    "    if search_str in line:\n",
    "        info_line = line\n",
    "        break\n",
    "\n",
    "#print(info_line)\n",
    "\n",
    "# Perform the cuts\n",
    "cut_post = '        &lt;dir&gt; <A HREF=\"/covid19/nationalcasedeath_eueea_daily_ei/csv'\n",
    "idx_cut = info_line.find(cut_post)\n",
    "\n",
    "dateStr =  info_line[idx_cut-len(\"10/27/2022  9:30 AM\"):idx_cut]\n",
    "print(dateStr)"
   ]
  }
 ],
 "metadata": {
  "kernelspec": {
   "display_name": "Python 3 (ipykernel)",
   "language": "python",
   "name": "python3"
  },
  "language_info": {
   "codemirror_mode": {
    "name": "ipython",
    "version": 3
   },
   "file_extension": ".py",
   "mimetype": "text/x-python",
   "name": "python",
   "nbconvert_exporter": "python",
   "pygments_lexer": "ipython3",
   "version": "3.10.6"
  }
 },
 "nbformat": 4,
 "nbformat_minor": 5
}
